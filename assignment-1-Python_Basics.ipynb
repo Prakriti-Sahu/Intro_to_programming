{
  "nbformat": 4,
  "nbformat_minor": 0,
  "metadata": {
    "kernelspec": {
      "display_name": "Python 3",
      "language": "python",
      "name": "python3"
    },
    "language_info": {
      "codemirror_mode": {
        "name": "ipython",
        "version": 3
      },
      "file_extension": ".py",
      "mimetype": "text/x-python",
      "name": "python",
      "nbconvert_exporter": "python",
      "pygments_lexer": "ipython3",
      "version": "3.7.3"
    },
    "colab": {
      "name": "prog_assignment1_SM21MTECH12009.ipynb",
      "provenance": [],
      "toc_visible": true
    }
  },
  "cells": [
    {
      "cell_type": "markdown",
      "metadata": {
        "id": "0QgH2VLzN3KX"
      },
      "source": [
        "## In-class assignment - Python Basics"
      ]
    },
    {
      "cell_type": "markdown",
      "metadata": {
        "id": "Jfdwi9oAN3Kh"
      },
      "source": [
        "### 1. Maximun and minimum of three numbers "
      ]
    },
    {
      "cell_type": "code",
      "metadata": {
        "colab": {
          "base_uri": "https://localhost:8080/"
        },
        "id": "XOVrFS_iN3Ki",
        "outputId": "96c9b27d-41fb-4912-f675-b311497e7b29"
      },
      "source": [
        "def find_max_min(a, b, c):\n",
        "    max_val = -1\n",
        "    min_val = -1\n",
        "    \n",
        "    if a>b:\n",
        "      if a>c:\n",
        "        max_val=a\n",
        "      else:\n",
        "        max_val=c\n",
        "    elif b>c:\n",
        "      max_val=b\n",
        "    else:\n",
        "      max_val=c\n",
        "\n",
        "    if a<b:\n",
        "      if a<c:\n",
        "        min_val=a\n",
        "      else :\n",
        "        min_val=c\n",
        "    elif b<c:\n",
        "      min_val=b\n",
        "    else:\n",
        "      min_val=c\n",
        "    \n",
        "    return max_val, min_val\n",
        "\n",
        "max_val, min_val = find_max_min(20, 10, 30)\n",
        "print(f\"Max={max_val} and Min={min_val}\")"
      ],
      "execution_count": 2,
      "outputs": [
        {
          "output_type": "stream",
          "name": "stdout",
          "text": [
            "Max=30 and Min=10\n"
          ]
        }
      ]
    },
    {
      "cell_type": "markdown",
      "metadata": {
        "id": "_RzjcBQIN3Kn"
      },
      "source": [
        "### 2. Check if a number in divisible by n "
      ]
    },
    {
      "cell_type": "code",
      "metadata": {
        "colab": {
          "base_uri": "https://localhost:8080/"
        },
        "id": "So2TrzHPN3Ko",
        "outputId": "80c2522a-ef9f-456b-fd92-67dd88066247"
      },
      "source": [
        "#Check if x is divisible by n\n",
        "def isDivisible(x, n):\n",
        "    is_divisible = False\n",
        "    \n",
        "    if x%n==0:\n",
        "      is_divisible = True\n",
        "    \n",
        "    return is_divisible\n",
        "\n",
        "is_divisible = isDivisible(10, 2)\n",
        "#Print \"Divisible\" if x is divisible by n otherwise \"Not divisible\"\n",
        "\n",
        "if is_divisible>0:\n",
        "    print(\"Divisible\")\n",
        "else:\n",
        "    print(\"Not Divisible\")"
      ],
      "execution_count": 1,
      "outputs": [
        {
          "output_type": "stream",
          "name": "stdout",
          "text": [
            "Divisible\n"
          ]
        }
      ]
    },
    {
      "cell_type": "markdown",
      "metadata": {
        "id": "ZLcsSpZXN3Kp"
      },
      "source": [
        "### 3. Print Fibonacci sequence of length n"
      ]
    },
    {
      "cell_type": "code",
      "metadata": {
        "colab": {
          "base_uri": "https://localhost:8080/"
        },
        "id": "ZgIDCrpXN3Kq",
        "outputId": "570d3a4d-1e59-4a03-fd4a-2fee17579acd"
      },
      "source": [
        "#A Fibonacci sequence is the integer sequence of 0, 1, 1, 2, 3, 5, 8....\n",
        "#The first two terms are 0 and 1. \n",
        "#All other terms are obtained by adding the preceding two terms. \n",
        "#This means to say the nth term is the sum of (n-1)th and (n-2)th term.\n",
        "\n",
        "n = 10\n",
        "a,b=0,1\n",
        "\n",
        "for i in range(n):\n",
        "  print(a)\n",
        "  temp=a+b\n",
        "  a=b\n",
        "  b=temp\n",
        "\n"
      ],
      "execution_count": 30,
      "outputs": [
        {
          "output_type": "stream",
          "name": "stdout",
          "text": [
            "0\n",
            "1\n",
            "1\n",
            "2\n",
            "3\n",
            "5\n",
            "8\n",
            "13\n",
            "21\n",
            "34\n"
          ]
        }
      ]
    },
    {
      "cell_type": "markdown",
      "metadata": {
        "id": "HblqlnQIN3Ks"
      },
      "source": [
        "### 4. Count number of vowels in a string using for loop"
      ]
    },
    {
      "cell_type": "code",
      "metadata": {
        "colab": {
          "base_uri": "https://localhost:8080/"
        },
        "id": "Ki0jlsa8N3Kt",
        "outputId": "8e2ffffe-2d4e-4111-9725-52701bcc3b1e"
      },
      "source": [
        "def get_vowel_count(x):\n",
        "    vowel_count = 0\n",
        "    vowels = ('a', 'e', 'i', 'o', 'u')\n",
        "    \n",
        "    for i in range(len(x)):\n",
        "      for j in range(len(vowels)):\n",
        "        if x[i].lower() == vowels[j]:\n",
        "          vowel_count+=1\n",
        "    \n",
        "    return vowel_count\n",
        "\n",
        "x = \"QUeUEiNg\"\n",
        "print(f\"Number of vowels in {x} is {get_vowel_count(x)}\")\n"
      ],
      "execution_count": 50,
      "outputs": [
        {
          "output_type": "stream",
          "name": "stdout",
          "text": [
            "Number of vowels in QUeUEiNg is 5\n"
          ]
        }
      ]
    },
    {
      "cell_type": "markdown",
      "metadata": {
        "id": "pjriJ26qN3Kv"
      },
      "source": [
        "### 5. Solve Question 4 using list comprehension"
      ]
    },
    {
      "cell_type": "code",
      "metadata": {
        "colab": {
          "base_uri": "https://localhost:8080/"
        },
        "id": "3L5zPAUVN3Kv",
        "outputId": "7246001a-831c-48fd-b2bb-b3e1334b99b1"
      },
      "source": [
        "def get_vowel_count(x):\n",
        "    vowel_count = 0\n",
        "    vowels = ('a', 'e', 'i', 'o', 'u')\n",
        "    \n",
        "    for i in x.lower():\n",
        "      if i in vowels:\n",
        "        vowel_count+=1\n",
        "    \n",
        "    return vowel_count\n",
        "\n",
        "x = \"QUeUEiNg\"\n",
        "print(f\"Number of vowels in {x} is {get_vowel_count(x)}\")"
      ],
      "execution_count": 53,
      "outputs": [
        {
          "output_type": "stream",
          "name": "stdout",
          "text": [
            "Number of vowels in QUeUEiNg is 5\n"
          ]
        }
      ]
    },
    {
      "cell_type": "markdown",
      "metadata": {
        "id": "74JQEag6N3Kw"
      },
      "source": [
        "### 6. Create dictionary where key-value pair is roll number and marks obtained by a student. Print highest mark, lowest mark, and class average. Print the roll number of the students who scored more than 50. "
      ]
    },
    {
      "cell_type": "code",
      "metadata": {
        "colab": {
          "base_uri": "https://localhost:8080/"
        },
        "id": "GL8Q9EgJN3Kx",
        "outputId": "d8eb3bc5-cacd-480e-a7ce-f2ea7df39e8c"
      },
      "source": [
        "student = {1: 40, 2: 65, 3: 70, 4: 55, 5: 49, 6: 50, 7: 99}\n",
        "print(student)\n",
        "print()\n",
        "\n",
        "marks= list(student.values())\n",
        "\n",
        "print(f\"lowest mark= {min(marks)}\")\n",
        "print(f\"highest mark= {max(marks)}\")\n",
        "print(f\"class average= {sum(marks)/len(marks)}\")\n",
        "\n",
        "#roll=list(student.keys())\n",
        "print(\"\\nRoll nos. of students with marks more than 50 :\")\n",
        "\n",
        "for k,v in student.items():\n",
        "  if v>50:\n",
        "    print(k)\n",
        "\n"
      ],
      "execution_count": 101,
      "outputs": [
        {
          "output_type": "stream",
          "name": "stdout",
          "text": [
            "{1: 40, 2: 65, 3: 70, 4: 55, 5: 49, 6: 50, 7: 99}\n",
            "\n",
            "lowest mark= 40\n",
            "highest mark= 99\n",
            "class average= 61.142857142857146\n",
            "\n",
            "Roll nos. of students with marks more than 50 :\n",
            "2\n",
            "3\n",
            "4\n",
            "7\n"
          ]
        }
      ]
    },
    {
      "cell_type": "markdown",
      "metadata": {
        "id": "rL1OsJMsN3Ky"
      },
      "source": [
        "### 7 Print the following structure using for loop "
      ]
    },
    {
      "cell_type": "code",
      "metadata": {
        "colab": {
          "base_uri": "https://localhost:8080/"
        },
        "id": "2-SBTD3QN3Kz",
        "outputId": "b6c06a1e-7ea4-48ce-eaa6-1c4704c9b4f2"
      },
      "source": [
        "##########\n",
        "########\n",
        "######\n",
        "####\n",
        "##\n",
        "####\n",
        "######\n",
        "########\n",
        "##########\n",
        "\n",
        "for i in range(5):\n",
        "    for j in range(2*(i), 10):\n",
        "      print(\"# \", end=\"\")  \n",
        "    print()\n",
        "\n",
        "for i in range(4):\n",
        "    for j in range(4+(2*i)):\n",
        "      print(\"# \", end=\"\")  \n",
        "    print()"
      ],
      "execution_count": 89,
      "outputs": [
        {
          "output_type": "stream",
          "name": "stdout",
          "text": [
            "# # # # # # # # # # \n",
            "# # # # # # # # \n",
            "# # # # # # \n",
            "# # # # \n",
            "# # \n",
            "# # # # \n",
            "# # # # # # \n",
            "# # # # # # # # \n",
            "# # # # # # # # # # \n"
          ]
        }
      ]
    },
    {
      "cell_type": "markdown",
      "metadata": {
        "id": "Q0ZZViC3N3Kz"
      },
      "source": [
        "### 8. Write your own function to sort a list in ascending order"
      ]
    },
    {
      "cell_type": "code",
      "metadata": {
        "colab": {
          "base_uri": "https://localhost:8080/"
        },
        "id": "-MC0-yjFN3K0",
        "outputId": "4dc7859e-d1df-4ee7-f1c3-7ba2ec1cef00"
      },
      "source": [
        "def sort_list(lst):\n",
        "    #sorted_lst = []\n",
        "    sorted_lst=lst\n",
        "\n",
        "    for i in range(len(sorted_lst)-1):\n",
        "      for j in range(len(sorted_lst)-i-1):\n",
        "        if sorted_lst[j]>sorted_lst[j+1]:\n",
        "          temp=sorted_lst[j]\n",
        "          sorted_lst[j]=sorted_lst[j+1]\n",
        "          sorted_lst[j+1]=temp\n",
        "\n",
        "    return sorted_lst\n",
        "\n",
        "lst = [3,5,1,9,7,8,3,9]\n",
        "print(f\"Original List : {lst}\")\n",
        "print(f\"Sorted List : {sort_list(lst)}\")"
      ],
      "execution_count": 43,
      "outputs": [
        {
          "output_type": "stream",
          "name": "stdout",
          "text": [
            "Original List : [3, 5, 1, 9, 7, 8, 3, 9]\n",
            "Sorted List : [1, 3, 3, 5, 7, 8, 9, 9]\n"
          ]
        }
      ]
    },
    {
      "cell_type": "markdown",
      "metadata": {
        "id": "_KE8vFwgN3K0"
      },
      "source": [
        "### 9. Count number of words using string split"
      ]
    },
    {
      "cell_type": "code",
      "metadata": {
        "colab": {
          "base_uri": "https://localhost:8080/"
        },
        "id": "8-1-Df-YN3K0",
        "outputId": "530eb466-9666-46e6-8689-f763ae7ff5f8"
      },
      "source": [
        "s = \"Sky is blue.\"\n",
        "n=len(s.split())\n",
        "print(f\"Number of words= {n}\")\n",
        "#Your code"
      ],
      "execution_count": 17,
      "outputs": [
        {
          "output_type": "stream",
          "name": "stdout",
          "text": [
            "Number of words= 3\n"
          ]
        }
      ]
    },
    {
      "cell_type": "markdown",
      "metadata": {
        "id": "m11fiOANN3K1"
      },
      "source": [
        "### 10. Extract Information"
      ]
    },
    {
      "cell_type": "code",
      "metadata": {
        "colab": {
          "base_uri": "https://localhost:8080/"
        },
        "id": "DgxH2me4N3K2",
        "outputId": "6f8a7256-354d-47fc-9ab6-eca6a3aa7b52"
      },
      "source": [
        "#A string is given using the following format {name}##{age}::{gender}::{ID}\n",
        "#Write a code to extract the name, age, gender, and id and print them\n",
        "import re\n",
        "s = \"Lisa##25::Female::123\"\n",
        "\n",
        "n=re.split('##|::',s)\n",
        "\n",
        "print(f\"name: {n[0]: <4}\\nage: {n[1]: <4}\\ngender: {n[2]: <4}\\nid: {n[3]: <4}\")"
      ],
      "execution_count": 24,
      "outputs": [
        {
          "output_type": "stream",
          "name": "stdout",
          "text": [
            "name: Lisa\n",
            "age: 25  \n",
            "gender: Female\n",
            "id: 123 \n"
          ]
        }
      ]
    },
    {
      "cell_type": "markdown",
      "metadata": {
        "id": "fFkJILajzbOn"
      },
      "source": [
        "## 11. Extract the int and float part in 3.14"
      ]
    },
    {
      "cell_type": "code",
      "metadata": {
        "colab": {
          "base_uri": "https://localhost:8080/"
        },
        "id": "dRulLTKmN3K2",
        "outputId": "34d2a4b2-ac67-403d-d61a-ba3cc7aa87fa"
      },
      "source": [
        "#Extract the int and float part of 3.14\n",
        "\n",
        "p=3.14\n",
        "print(\"int part= {} \\nfloat part= {}\".format(int(p), p-int(p)))"
      ],
      "execution_count": 3,
      "outputs": [
        {
          "output_type": "stream",
          "name": "stdout",
          "text": [
            "int part= 3 \n",
            "float part= 0.14000000000000012\n"
          ]
        }
      ]
    },
    {
      "cell_type": "markdown",
      "metadata": {
        "id": "hsDIwwNTz6bK"
      },
      "source": [
        "# 12. Calculate BMI"
      ]
    },
    {
      "cell_type": "code",
      "metadata": {
        "colab": {
          "base_uri": "https://localhost:8080/"
        },
        "id": "O__6kahhN--Y",
        "outputId": "05c0202a-f6be-49f1-8753-776d3d46970c"
      },
      "source": [
        "# Calucate BMI\n",
        "\n",
        "def bmi(x,y):\n",
        "    b=y/(x**2)\n",
        "    if b<=18.5 :\n",
        "      print(\"Underweight\")\n",
        "    elif b>=25:\n",
        "      print(\"overweight\")\n",
        "    else:\n",
        "      print(\"normal weight\")\n",
        "\n",
        "h=float(input(\"Height (in metre): \"))\n",
        "m=float(input(\"Mass (in kg): \"))\n",
        "bmi(h,m)"
      ],
      "execution_count": 33,
      "outputs": [
        {
          "output_type": "stream",
          "name": "stdout",
          "text": [
            "Height (in metre): 1.57\n",
            "Mass (in kg): 55\n",
            "normal weight\n"
          ]
        }
      ]
    }
  ]
}
