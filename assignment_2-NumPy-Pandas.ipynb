{
  "nbformat": 4,
  "nbformat_minor": 0,
  "metadata": {
    "colab": {
      "name": "SM21MTECH12009_assignment-2",
      "provenance": [],
      "collapsed_sections": [],
      "authorship_tag": "ABX9TyNqxgiCDM6EuVyEkjGIqre0",
      "include_colab_link": true
    },
    "kernelspec": {
      "name": "python3",
      "display_name": "Python 3"
    },
    "language_info": {
      "name": "python"
    }
  },
  "cells": [
    {
      "cell_type": "markdown",
      "metadata": {
        "id": "view-in-github",
        "colab_type": "text"
      },
      "source": [
        "<a href=\"https://colab.research.google.com/github/Prakriti-Sahu/Intro_to_programming/blob/main/SM21MTECH12009_assignment_2.ipynb\" target=\"_parent\"><img src=\"https://colab.research.google.com/assets/colab-badge.svg\" alt=\"Open In Colab\"/></a>"
      ]
    },
    {
      "cell_type": "markdown",
      "metadata": {
        "id": "o8elWlqZ9D9R"
      },
      "source": [
        "# **numpy and pandas**"
      ]
    },
    {
      "cell_type": "markdown",
      "metadata": {
        "id": "p9BAUo9lsuy1"
      },
      "source": [
        "# **Student-mat**"
      ]
    },
    {
      "cell_type": "code",
      "metadata": {
        "id": "voFyYGfLF6MT",
        "colab": {
          "base_uri": "https://localhost:8080/"
        },
        "outputId": "026d3d80-d903-4d1b-f8e3-0a6bf88d97a7"
      },
      "source": [
        "import numpy as np\n",
        "import pandas as pd\n",
        "\n",
        "!wget https://archive.ics.uci.edu/ml/machine-learning-databases/00320/student.zip\n",
        "!unzip student.zip\n",
        "\n",
        "stu_df = pd.read_csv(\"student-mat.csv\", sep=';')\n",
        "#print(stu_df.head(10))"
      ],
      "execution_count": 9,
      "outputs": [
        {
          "output_type": "stream",
          "name": "stdout",
          "text": [
            "--2021-10-04 14:24:28--  https://archive.ics.uci.edu/ml/machine-learning-databases/00320/student.zip\n",
            "Resolving archive.ics.uci.edu (archive.ics.uci.edu)... 128.195.10.252\n",
            "Connecting to archive.ics.uci.edu (archive.ics.uci.edu)|128.195.10.252|:443... connected.\n",
            "HTTP request sent, awaiting response... 200 OK\n",
            "Length: 20478 (20K) [application/x-httpd-php]\n",
            "Saving to: ‘student.zip’\n",
            "\n",
            "student.zip         100%[===================>]  20.00K  --.-KB/s    in 0.1s    \n",
            "\n",
            "2021-10-04 14:24:28 (155 KB/s) - ‘student.zip’ saved [20478/20478]\n",
            "\n",
            "Archive:  student.zip\n",
            "  inflating: student-mat.csv         \n",
            "  inflating: student-por.csv         \n",
            "  inflating: student-merge.R         \n",
            "  inflating: student.txt             \n"
          ]
        }
      ]
    },
    {
      "cell_type": "markdown",
      "metadata": {
        "id": "rdkkDpaNC_Vz"
      },
      "source": [
        "## **Q. Calculate min, max and avg on a column for a particular school.**"
      ]
    },
    {
      "cell_type": "code",
      "metadata": {
        "colab": {
          "base_uri": "https://localhost:8080/"
        },
        "id": "fMLt1B1lC-xY",
        "outputId": "fd94f275-320e-4526-a04b-4ca7519abab9"
      },
      "source": [
        "school= input(\"Enter the name of school: \")\n",
        "col= input(\"Enter the column: \")\n",
        "\n",
        "x=stu_df.loc[stu_df[\"school\"]==school]\n",
        "print(f\"Mean= {x[col].mean()}\")\n",
        "print(f\"Min= {x[col].min()}\")\n",
        "print(f\"Max= {x[col].max()}\")"
      ],
      "execution_count": null,
      "outputs": [
        {
          "output_type": "stream",
          "name": "stdout",
          "text": [
            "Enter the name of school: GP\n",
            "Enter the column: G1\n",
            "Mean= 10.939828080229226\n",
            "Min= 3\n",
            "Max= 19\n"
          ]
        }
      ]
    },
    {
      "cell_type": "markdown",
      "metadata": {
        "id": "FMeAbupwFqWE"
      },
      "source": [
        "## **Q. Write a function to calculate min, max and mean / average of any column in a dataframe.**"
      ]
    },
    {
      "cell_type": "code",
      "metadata": {
        "id": "L9gNCAdkFqEs",
        "colab": {
          "base_uri": "https://localhost:8080/"
        },
        "outputId": "ce9e8a6e-8001-4d1d-b08a-7564e0444301"
      },
      "source": [
        "col=input(\"Enter the column: \")\n",
        "\n",
        "l=stu_df[col].tolist()\n",
        "\n",
        "min=l[0]\n",
        "max=l[0]\n",
        "sum=0\n",
        "n=len(l)\n",
        "\n",
        "for i in range(n):\n",
        "  sum+=l[i]\n",
        "  if l[i]<min:\n",
        "    min=l[i]\n",
        "  elif l[i]>max:\n",
        "    max=l[i]\n",
        "\n",
        "print(f\"min is {min}\")\n",
        "print(f\"max is {max}\")\n",
        "print(f\"mean is {sum/n}\")\n",
        "  "
      ],
      "execution_count": 42,
      "outputs": [
        {
          "output_type": "stream",
          "name": "stdout",
          "text": [
            "Enter the column: G1\n",
            "min is 3\n",
            "max is 19\n",
            "mean is 10.90886075949367\n"
          ]
        }
      ]
    },
    {
      "cell_type": "markdown",
      "metadata": {
        "id": "IPVaP6MTr40w"
      },
      "source": [
        "## **Q. Plot the relationship between `absences` and `G1` from student dataset:**"
      ]
    },
    {
      "cell_type": "code",
      "metadata": {
        "colab": {
          "base_uri": "https://localhost:8080/",
          "height": 279
        },
        "id": "MERRDzIHr9ep",
        "outputId": "6b74fec9-5ca8-488e-efe8-6ec5186948fb"
      },
      "source": [
        "import matplotlib.pyplot as plt\n",
        "\n",
        "plt.scatter(x = stu_df[\"absences\"] , y = stu_df[\"G1\"])\n",
        "plt.xlabel(\"absences\")\n",
        "plt.ylabel(\"G1\")\n",
        "plt.show()"
      ],
      "execution_count": 11,
      "outputs": [
        {
          "output_type": "display_data",
          "data": {
            "image/png": "[encoded data removed]",
            "text/plain": [
              "<Figure size 432x288 with 1 Axes>"
            ]
          },
          "metadata": {
            "needs_background": "light"
          }
        }
      ]
    },
    {
      "cell_type": "markdown",
      "metadata": {
        "id": "HEv8iqo7qdVp"
      },
      "source": [
        "# **Garments worker productivity**"
      ]
    },
    {
      "cell_type": "code",
      "metadata": {
        "colab": {
          "base_uri": "https://localhost:8080/"
        },
        "id": "c-9qPmH0qgUm",
        "outputId": "34308029-e86d-4a96-eb33-e7da0474fbc4"
      },
      "source": [
        "import matplotlib.pyplot as plt\n",
        "import numpy as np\n",
        "import pandas as pd\n",
        "\n",
        "!wget https://archive.ics.uci.edu/ml/machine-learning-databases/00597/garments_worker_productivity.csv\n",
        "\n",
        "gwp_df = pd.read_csv('https://archive.ics.uci.edu/ml/machine-learning-databases/00597/garments_worker_productivity.csv')\n",
        "#gwp_df.head(3)\n"
      ],
      "execution_count": 66,
      "outputs": [
        {
          "output_type": "stream",
          "name": "stdout",
          "text": [
            "--2021-10-04 17:44:38--  https://archive.ics.uci.edu/ml/machine-learning-databases/00597/garments_worker_productivity.csv\n",
            "Resolving archive.ics.uci.edu (archive.ics.uci.edu)... 128.195.10.252\n",
            "Connecting to archive.ics.uci.edu (archive.ics.uci.edu)|128.195.10.252|:443... connected.\n",
            "HTTP request sent, awaiting response... 200 OK\n",
            "Length: 94933 (93K) [application/x-httpd-php]\n",
            "Saving to: ‘garments_worker_productivity.csv.1’\n",
            "\n",
            "garments_worker_pro 100%[===================>]  92.71K   358KB/s    in 0.3s    \n",
            "\n",
            "2021-10-04 17:44:39 (358 KB/s) - ‘garments_worker_productivity.csv.1’ saved [94933/94933]\n",
            "\n"
          ]
        }
      ]
    },
    {
      "cell_type": "markdown",
      "metadata": {
        "id": "8Sp-Kmgrp-fO"
      },
      "source": [
        "## **Q. Create bar and pie charts for any of the column on this dataset.**"
      ]
    },
    {
      "cell_type": "code",
      "metadata": {
        "colab": {
          "base_uri": "https://localhost:8080/",
          "height": 320
        },
        "id": "rHwCj0skp_B6",
        "outputId": "15051da1-e217-4a73-b45c-13dc701bd1c8"
      },
      "source": [
        "gwp_df.team.value_counts().plot.pie(figsize=(6, 5))     #pie chart\n"
      ],
      "execution_count": 5,
      "outputs": [
        {
          "output_type": "execute_result",
          "data": {
            "text/plain": [
              "<matplotlib.axes._subplots.AxesSubplot at 0x7f67de1e6ed0>"
            ]
          },
          "metadata": {},
          "execution_count": 5
        },
        {
          "output_type": "display_data",
          "data": {
            "image/png": "[encoded data removed]",
            "text/plain": [
              "<Figure size 432x360 with 1 Axes>"
            ]
          },
          "metadata": {}
        }
      ]
    },
    {
      "cell_type": "code",
      "metadata": {
        "colab": {
          "base_uri": "https://localhost:8080/",
          "height": 349
        },
        "id": "K9YbdSCFrd6B",
        "outputId": "cbec71c8-052a-43eb-c448-3dc196ea6f6f"
      },
      "source": [
        "gwp_df.targeted_productivity.value_counts().plot.bar(figsize=(6, 5))      #bar graph"
      ],
      "execution_count": 7,
      "outputs": [
        {
          "output_type": "execute_result",
          "data": {
            "text/plain": [
              "<matplotlib.axes._subplots.AxesSubplot at 0x7f67de15ef90>"
            ]
          },
          "metadata": {},
          "execution_count": 7
        },
        {
          "output_type": "display_data",
          "data": {
            "image/png": "[encoded data removed]",
            "text/plain": [
              "<Figure size 432x360 with 1 Axes>"
            ]
          },
          "metadata": {
            "needs_background": "light"
          }
        }
      ]
    },
    {
      "cell_type": "markdown",
      "metadata": {
        "id": "K6GlNL18TVEa"
      },
      "source": [
        "# **Numpy**"
      ]
    },
    {
      "cell_type": "markdown",
      "metadata": {
        "id": "-ZpwDP3rtL1K"
      },
      "source": [
        "## **Q. Write a function which returns a n-d array of size (m,n)**"
      ]
    },
    {
      "cell_type": "code",
      "metadata": {
        "colab": {
          "base_uri": "https://localhost:8080/"
        },
        "id": "Z_oMojrztMen",
        "outputId": "59c09084-d23b-45fd-bf9a-54140a552600"
      },
      "source": [
        "import numpy as np\n",
        "\n",
        "def randArr(m,n):\n",
        "  return np.random.random((m,n))\n",
        "\n",
        "m= int(input(\"no of rows: \"))\n",
        "n= int(input(\"no of columns: \"))\n",
        "\n",
        "print(randArr(m,n))"
      ],
      "execution_count": 30,
      "outputs": [
        {
          "output_type": "stream",
          "name": "stdout",
          "text": [
            "no of rows: 2\n",
            "no of columns: 3\n",
            "[[0.94005126 0.69563122 0.34227945]\n",
            " [0.59956115 0.54962354 0.16312397]]\n"
          ]
        }
      ]
    },
    {
      "cell_type": "markdown",
      "metadata": {
        "id": "5-qudlfduqDo"
      },
      "source": [
        "## **Q. Slice bottom-left (2,2) array:**"
      ]
    },
    {
      "cell_type": "code",
      "metadata": {
        "colab": {
          "base_uri": "https://localhost:8080/"
        },
        "id": "BaXHvuOiuqec",
        "outputId": "35d8922c-76bf-4aac-b9af-97c245848499"
      },
      "source": [
        "import numpy as np\n",
        "\n",
        "a = np.array([[1,2,3,4], [5,6,7,8], [9,10,11,12]])\n",
        "print(a)\n",
        "print()\n",
        "b = a[1:, :2]\n",
        "print(f\"Bottom left array is:\\n\\n{b}\")"
      ],
      "execution_count": 19,
      "outputs": [
        {
          "output_type": "stream",
          "name": "stdout",
          "text": [
            "[[ 1  2  3  4]\n",
            " [ 5  6  7  8]\n",
            " [ 9 10 11 12]]\n",
            "\n",
            "Bottom left array is:\n",
            "\n",
            "[[ 5  6]\n",
            " [ 9 10]]\n"
          ]
        }
      ]
    },
    {
      "cell_type": "markdown",
      "metadata": {
        "id": "N6Deo7H4vxB3"
      },
      "source": [
        "## **Q. Randomly generate 2 2d-array and take their dot product**"
      ]
    },
    {
      "cell_type": "code",
      "metadata": {
        "colab": {
          "base_uri": "https://localhost:8080/"
        },
        "id": "l7AwPwF_vxgQ",
        "outputId": "ca6a567d-b13c-441e-84e5-af207bfff2b3"
      },
      "source": [
        "import numpy as np\n",
        "\n",
        "x=np.random.random((2,2))\n",
        "print(f\"x is:\\n{x}\\n\")\n",
        "y=np.random.random((2,2))\n",
        "print(f\"y is:\\n{y}\\n\")\n",
        "\n",
        "print(f\"The dot product of x and y is:\\n{x @ y}\")"
      ],
      "execution_count": 27,
      "outputs": [
        {
          "output_type": "stream",
          "name": "stdout",
          "text": [
            "x is:\n",
            "[[0.20722754 0.96863154]\n",
            " [0.80268938 0.94409508]]\n",
            "\n",
            "y is:\n",
            "[[0.61474423 0.86534095]\n",
            " [0.52883634 0.39616733]]\n",
            "\n",
            "The dot product of x and y is:\n",
            "[[0.63963949 0.56306265]\n",
            " [0.99272045 1.06861962]]\n"
          ]
        }
      ]
    },
    {
      "cell_type": "markdown",
      "metadata": {
        "id": "F0am7t2zTBfM"
      },
      "source": [
        "# **Broadcasting**"
      ]
    },
    {
      "cell_type": "markdown",
      "metadata": {
        "id": "QtPZDhCrxLu9"
      },
      "source": [
        "## **Q. Generate 2 different but broadcast compatible arrays and perform dot product**"
      ]
    },
    {
      "cell_type": "code",
      "metadata": {
        "colab": {
          "base_uri": "https://localhost:8080/"
        },
        "id": "Rp6KKNM3xMZW",
        "outputId": "9235f6c5-92ec-4e56-f71c-67a01d5058f3"
      },
      "source": [
        "import numpy as np\n",
        "\n",
        "r1=int(input(\"Enter rows of first array: \"))\n",
        "c1=int(input(\"Enter columns of first array: \"))\n",
        "r2=int(input(\"Enter rows of second array: \"))\n",
        "c2=int(input(\"Enter columns of second array: \"))\n",
        "\n",
        "arr1=np.array(np.random.random((r1,c1)))\n",
        "arr2=np.array(np.random.random((r2,c2)))\n",
        "\n",
        "print(f\"array 1 is:\\n{arr1}\\n\")\n",
        "print(f\"array 2 is:\\n{arr2}\\n\")\n",
        "\n",
        "print(f\"Dot product of above arrays is: \\n{np.dot(arr1,arr2)}\")\n",
        "\n"
      ],
      "execution_count": 65,
      "outputs": [
        {
          "output_type": "stream",
          "name": "stdout",
          "text": [
            "Enter rows of first array: 2\n",
            "Enter columns of first array: 3\n",
            "Enter rows of second array: 3\n",
            "Enter columns of second array: 3\n",
            "array 1 is:\n",
            "[[0.88361929 0.54036611 0.13876544]\n",
            " [0.74259033 0.42835826 0.27954585]]\n",
            "\n",
            "array 2 is:\n",
            "[[0.55502966 0.29427169 0.04275686]\n",
            " [0.66274903 0.35254003 0.02255997]\n",
            " [0.19454745 0.58866071 0.31695622]]\n",
            "\n",
            "Dot product of above arrays is: \n",
            "[[0.87555849 0.53221059 0.093954  ]\n",
            " [0.75043861 0.5340944  0.13001838]]\n"
          ]
        }
      ]
    },
    {
      "cell_type": "markdown",
      "metadata": {
        "id": "ulYGuVgEx7Ll"
      },
      "source": [
        "# **HOMEWORKS**"
      ]
    },
    {
      "cell_type": "markdown",
      "metadata": {
        "id": "UJ3Q8FVWoC5H"
      },
      "source": [
        "**1. Write a function to return the second maximum value in a list.**\n",
        "\n",
        "input: [2, 5, 6, 2, 9, 4, 0, 3]\n",
        "result: 6"
      ]
    },
    {
      "cell_type": "code",
      "metadata": {
        "colab": {
          "base_uri": "https://localhost:8080/"
        },
        "id": "gcYMgBsjoDb5",
        "outputId": "bc864095-0d04-4ef3-b3d4-5ccf4ad6eff6"
      },
      "source": [
        "def maximum(l):\n",
        "  l.sort()\n",
        "  return l[-2]\n",
        "\n",
        "l=[2, 5, 6, 2, 9, 4, 0, 3]\n",
        "print(maximum(l))"
      ],
      "execution_count": 53,
      "outputs": [
        {
          "output_type": "stream",
          "name": "stdout",
          "text": [
            "6\n"
          ]
        }
      ]
    },
    {
      "cell_type": "markdown",
      "metadata": {
        "id": "E5zbTK61K_5E"
      },
      "source": [
        "**2. Write a function which creates a single list of tuples from two separate equal length lists.**\n",
        "\n",
        "a = [1,2,3]\n",
        "\n",
        "b = ['a','b','c']\n",
        "\n",
        "result = [(1,'a'),(2,'b'),(3,'c')]"
      ]
    },
    {
      "cell_type": "code",
      "metadata": {
        "colab": {
          "base_uri": "https://localhost:8080/"
        },
        "id": "41nolA3cLATm",
        "outputId": "7f6f3023-82f4-4be3-be02-6ce70db0aad2"
      },
      "source": [
        "def func(a,b):\n",
        "  l= list(zip(a,b))\n",
        "  return l\n",
        "\n",
        "a = [1,2,3]\n",
        "b = ['a','b','c']\n",
        "\n",
        "print(func(a,b))\n"
      ],
      "execution_count": 55,
      "outputs": [
        {
          "output_type": "stream",
          "name": "stdout",
          "text": [
            "[(1, 'a'), (2, 'b'), (3, 'c')]\n"
          ]
        }
      ]
    },
    {
      "cell_type": "markdown",
      "metadata": {
        "id": "ZE2K6_UsM28d"
      },
      "source": [
        "**3. Sort a dict based on it's values.**\n",
        "\n",
        "d = {'a':3, 'b':1, 'c':2}\n",
        "\n",
        "result = [('a',3),('c',2),('b',1)]"
      ]
    },
    {
      "cell_type": "code",
      "metadata": {
        "colab": {
          "base_uri": "https://localhost:8080/"
        },
        "id": "FM-9RDVNM3aU",
        "outputId": "7695618c-67bf-4793-9e3d-51c9a0124171"
      },
      "source": [
        "d = {'a':3, 'b':1, 'c':2}\n",
        "\n",
        "print(sorted(d.items(), key=lambda x: x[1],reverse=True))"
      ],
      "execution_count": 57,
      "outputs": [
        {
          "output_type": "stream",
          "name": "stdout",
          "text": [
            "[('a', 3), ('c', 2), ('b', 1)]\n"
          ]
        }
      ]
    }
  ]
}
